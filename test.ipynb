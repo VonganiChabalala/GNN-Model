{
 "cells": [
  {
   "cell_type": "code",
   "execution_count": 95,
   "metadata": {},
   "outputs": [],
   "source": [
    "from graph import Graph"
   ]
  },
  {
   "cell_type": "code",
   "execution_count": 96,
   "metadata": {},
   "outputs": [],
   "source": [
    "g = Graph()"
   ]
  },
  {
   "cell_type": "code",
   "execution_count": 97,
   "metadata": {},
   "outputs": [
    {
     "data": {
      "text/plain": [
       "tensor([[  0.0000, 270.0000],\n",
       "        [ 66.4832, 260.6158],\n",
       "        [ 59.3939, 319.0783],\n",
       "        [ 71.6785, 229.4607],\n",
       "        [190.2286, 335.7364],\n",
       "        [ 79.1589, 349.1931],\n",
       "        [ 31.1417, 305.1703],\n",
       "        [114.6005, 285.6000],\n",
       "        [134.0850, 237.3152],\n",
       "        [199.8333, 302.1734],\n",
       "        [184.8506, 304.3607],\n",
       "        [ 94.3162, 238.8742],\n",
       "        [ 84.8669, 321.9708],\n",
       "        [147.9968, 262.7746],\n",
       "        [ 99.7729, 356.5699],\n",
       "        [ 73.6927, 346.0692],\n",
       "        [ 66.4832,  80.7204],\n",
       "        [  0.0000, 270.0000],\n",
       "        [ 61.7800,  25.6976],\n",
       "        [ 37.4377, 162.8257],\n",
       "        [184.6905, 356.1939],\n",
       "        [102.1008,  29.9086],\n",
       "        [ 49.3877,  54.4637],\n",
       "        [ 61.1644, 313.0310],\n",
       "        [ 77.6143, 217.6167],\n",
       "        [156.4283, 318.6490],\n",
       "        [144.3355, 323.0324],\n",
       "        [ 40.8258, 201.8801],\n",
       "        [ 78.8204,   9.8243],\n",
       "        [ 81.5992, 264.6376],\n",
       "        [125.5007,  28.4668],\n",
       "        [ 95.2559,  30.2582],\n",
       "        [ 59.3939, 138.6426],\n",
       "        [ 61.7800, 205.1598],\n",
       "        [  0.0000, 270.0000],\n",
       "        [ 92.7819, 189.2254],\n",
       "        [134.4098, 342.5762],\n",
       "        [ 40.7409,  35.7634],\n",
       "        [ 30.1103, 153.0370],\n",
       "        [ 72.8432, 258.4377],\n",
       "        [138.6507, 211.7991],\n",
       "        [144.0447, 294.8534],\n",
       "        [128.2956, 297.1723],\n",
       "        [102.5512, 203.6409],\n",
       "        [ 25.7239, 328.2257],\n",
       "        [125.2075, 239.0977],\n",
       "        [ 63.8626,  30.6075],\n",
       "        [ 34.0279,  38.0201],\n",
       "        [ 71.6785,  49.9112],\n",
       "        [ 37.4377, 343.1699],\n",
       "        [ 92.7819,  10.1086],\n",
       "        [  0.0000, 270.0000],\n",
       "        [221.2831, 354.2971],\n",
       "        [130.5058,  18.1268],\n",
       "        [ 70.7504,  24.6624],\n",
       "        [ 95.4829, 324.6094],\n",
       "        [ 63.8349, 246.5918],\n",
       "        [191.1979, 323.5919],\n",
       "        [180.0083, 327.4144],\n",
       "        [ 26.3539, 265.7375],\n",
       "        [113.4581,   1.5540],\n",
       "        [ 96.4915, 287.3002],\n",
       "        [154.0188,  18.8042],\n",
       "        [123.6929,  17.7236],\n",
       "        [190.2286, 154.0694],\n",
       "        [184.6905, 174.4309],\n",
       "        [134.4098, 161.3471],\n",
       "        [221.2831, 172.1887],\n",
       "        [  0.0000, 270.0000],\n",
       "        [114.7310, 144.8298],\n",
       "        [164.1796, 159.6052],\n",
       "        [146.1903, 191.0633],\n",
       "        [248.2567, 186.3711],\n",
       "        [112.9787, 231.9639],\n",
       "        [101.5386, 225.4650],\n",
       "        [222.1875, 178.9998],\n",
       "        [109.6740, 164.6799],\n",
       "        [203.9260, 198.0123],\n",
       "        [103.2653, 133.9714],\n",
       "        [118.4705, 147.6633],\n",
       "        [ 79.1589, 168.4339],\n",
       "        [102.1008, 209.0485],\n",
       "        [ 40.7409, 215.4415],\n",
       "        [130.5058, 196.9205],\n",
       "        [114.7310, 325.7402],\n",
       "        [  0.0000, 270.0000],\n",
       "        [ 60.7512, 189.3033],\n",
       "        [106.4413, 243.0796],\n",
       "        [179.3162, 212.3771],\n",
       "        [156.9390, 279.7662],\n",
       "        [140.2889, 280.1655],\n",
       "        [142.6404, 206.7574],\n",
       "        [ 38.9960, 253.0028],\n",
       "        [163.4148, 233.1095],\n",
       "        [ 23.5726,  21.3506],\n",
       "        [  6.8713, 204.1967],\n",
       "        [ 31.1417, 124.9956],\n",
       "        [ 49.3877, 234.1855],\n",
       "        [ 30.1103, 333.2977],\n",
       "        [ 70.7504, 204.0386],\n",
       "        [164.1796, 341.0955],\n",
       "        [ 60.7512,   9.8866],\n",
       "        [  0.0000, 270.0000],\n",
       "        [ 85.8935, 278.4504],\n",
       "        [125.6999, 223.8765],\n",
       "        [168.7420, 301.4460],\n",
       "        [153.7126, 304.0221],\n",
       "        [ 86.6242, 219.4822],\n",
       "        [ 55.7853, 331.0811],\n",
       "        [126.7495, 253.0659],\n",
       "        [ 83.9490,  13.2466],\n",
       "        [ 54.1396,   8.0172],\n",
       "        [114.6005, 105.3059],\n",
       "        [ 61.1644, 132.6347],\n",
       "        [ 72.8432,  78.5766],\n",
       "        [ 95.4829, 143.8696],\n",
       "        [146.1903,  12.4245],\n",
       "        [106.4413,  63.5390],\n",
       "        [ 85.8935,  98.3302],\n",
       "        [  0.0000, 270.0000],\n",
       "        [103.2509, 181.0837],\n",
       "        [ 95.7450, 321.8376],\n",
       "        [ 84.7686, 329.8338],\n",
       "        [ 84.9106, 159.2775],\n",
       "        [ 68.3597,  57.8974],\n",
       "        [ 61.4107, 216.1085],\n",
       "        [125.0219,  56.3290],\n",
       "        [101.1844,  65.9823],\n",
       "        [134.0850,  58.0057],\n",
       "        [ 77.6143,  38.2002],\n",
       "        [138.6507,  32.9197],\n",
       "        [ 63.8349,  66.8327],\n",
       "        [248.2567,   8.7110],\n",
       "        [179.3162,  33.8198],\n",
       "        [125.6999,  44.7390],\n",
       "        [103.2509,   2.0602],\n",
       "        [  0.0000, 270.0000],\n",
       "        [187.4548, 343.2055],\n",
       "        [181.1393, 348.0085],\n",
       "        [ 39.8864,  54.3174],\n",
       "        [151.8562,  24.1937],\n",
       "        [ 63.6164, 328.4161],\n",
       "        [202.5039,  32.5439],\n",
       "        [172.5176,  34.1446],\n",
       "        [199.8333, 121.1722],\n",
       "        [156.4283, 137.5495],\n",
       "        [144.0447, 114.2854],\n",
       "        [191.1979, 142.1498],\n",
       "        [112.9787,  52.6150],\n",
       "        [156.9390,  99.5160],\n",
       "        [168.7420, 120.6192],\n",
       "        [ 95.7450, 141.1350],\n",
       "        [187.4548, 161.5308],\n",
       "        [  0.0000, 270.0000],\n",
       "        [ 16.6822,  96.1566],\n",
       "        [178.5749, 149.3288],\n",
       "        [123.3763, 107.6992],\n",
       "        [126.9882, 168.8782],\n",
       "        [163.3132,  91.3863],\n",
       "        [155.3692, 101.9710],\n",
       "        [184.8506, 123.3752],\n",
       "        [144.3355, 141.9483],\n",
       "        [128.2956, 116.6205],\n",
       "        [180.0083, 145.9873],\n",
       "        [101.5386,  46.1337],\n",
       "        [140.2889,  99.9319],\n",
       "        [153.7126, 123.2112],\n",
       "        [ 84.7686, 149.1472],\n",
       "        [181.1393, 166.3485],\n",
       "        [ 16.6822, 276.1733],\n",
       "        [  0.0000, 270.0000],\n",
       "        [169.1033, 153.8734],\n",
       "        [107.0835, 109.5020],\n",
       "        [123.0685, 176.3309],\n",
       "        [146.6954,  90.8612],\n",
       "        [138.7831, 102.6853],\n",
       "        [ 94.3162,  59.3427],\n",
       "        [ 40.8258,  22.2424],\n",
       "        [102.5512,  24.5412],\n",
       "        [ 26.3539,  85.7562],\n",
       "        [222.1875,   1.1229],\n",
       "        [142.6404,  27.9802],\n",
       "        [ 86.6242,  40.1235],\n",
       "        [ 84.9106, 340.0346],\n",
       "        [ 39.8864, 234.0957],\n",
       "        [178.5749, 330.7867],\n",
       "        [169.1033, 335.3163],\n",
       "        [  0.0000, 270.0000],\n",
       "        [119.0514,  14.2937],\n",
       "        [ 72.6305, 294.9819],\n",
       "        [166.1230,  27.2140],\n",
       "        [135.7763,  28.1097],\n",
       "        [ 84.8669, 141.3240],\n",
       "        [ 78.8204, 189.0764],\n",
       "        [ 25.7239, 148.0147],\n",
       "        [113.4581, 180.4609],\n",
       "        [109.6740, 345.6975],\n",
       "        [ 38.9960,  73.1129],\n",
       "        [ 55.7853, 150.6095],\n",
       "        [ 68.3597, 237.5487],\n",
       "        [151.8562, 202.8643],\n",
       "        [123.3763, 288.0576],\n",
       "        [107.0835, 289.8440],\n",
       "        [119.0514, 193.1839],\n",
       "        [  0.0000, 270.0000],\n",
       "        [127.4383, 227.2442],\n",
       "        [ 56.7187,  54.0900],\n",
       "        [ 34.8561,  81.6437],\n",
       "        [147.9968,  82.9507],\n",
       "        [ 81.5992,  84.7094],\n",
       "        [125.2075,  59.7043],\n",
       "        [ 96.4915, 107.0298],\n",
       "        [203.9260,  19.8365],\n",
       "        [163.4148,  54.0365],\n",
       "        [126.7495,  73.4145],\n",
       "        [ 61.4107,  36.5740],\n",
       "        [ 63.6164, 147.9077],\n",
       "        [126.9882, 350.0423],\n",
       "        [123.0685, 357.4797],\n",
       "        [ 72.6305, 114.6934],\n",
       "        [127.4383,  48.0595],\n",
       "        [  0.0000, 270.0000],\n",
       "        [183.8769,  50.1669],\n",
       "        [157.4350,  55.2457],\n",
       "        [ 99.7729, 175.5955],\n",
       "        [125.5007, 207.3924],\n",
       "        [ 63.8626, 210.0712],\n",
       "        [154.0188, 197.3832],\n",
       "        [103.2653, 314.6688],\n",
       "        [ 23.5726, 201.1361],\n",
       "        [ 83.9490, 192.4486],\n",
       "        [125.0219, 235.6562],\n",
       "        [202.5039, 210.8871],\n",
       "        [163.3132, 271.4245],\n",
       "        [146.6954, 270.8826],\n",
       "        [166.1230, 205.7769],\n",
       "        [ 56.7187, 233.7658],\n",
       "        [183.8769, 229.0268],\n",
       "        [  0.0000, 270.0000],\n",
       "        [ 30.4374, 201.7783],\n",
       "        [ 73.6927, 165.3713],\n",
       "        [ 95.2559, 209.4592],\n",
       "        [ 34.0279, 217.7593],\n",
       "        [123.6929, 196.5785],\n",
       "        [118.4705, 328.6342],\n",
       "        [  6.8713,  24.2577],\n",
       "        [ 54.1396, 187.4951],\n",
       "        [101.1844, 245.5837],\n",
       "        [172.5176, 212.7628],\n",
       "        [155.3692, 282.2816],\n",
       "        [138.7831, 282.9793],\n",
       "        [135.7763, 206.9480],\n",
       "        [ 34.8561, 261.5945],\n",
       "        [157.4350, 234.3794],\n",
       "        [ 30.4374,  22.0540],\n",
       "        [  0.0000, 270.0000]], dtype=torch.float64)"
      ]
     },
     "execution_count": 97,
     "metadata": {},
     "output_type": "execute_result"
    }
   ],
   "source": [
    "g.edge_attr"
   ]
  },
  {
   "cell_type": "code",
   "execution_count": 6,
   "metadata": {},
   "outputs": [
    {
     "ename": "AttributeError",
     "evalue": "'Graph' object has no attribute 'edge_attr'",
     "output_type": "error",
     "traceback": [
      "\u001b[0;31m---------------------------------------------------------------------------\u001b[0m",
      "\u001b[0;31mAttributeError\u001b[0m                            Traceback (most recent call last)",
      "\u001b[0;32m/var/folders/w6/37ptr4dj1h9g82860_d3bbhw0000gn/T/ipykernel_15275/1454141824.py\u001b[0m in \u001b[0;36m<module>\u001b[0;34m\u001b[0m\n\u001b[0;32m----> 1\u001b[0;31m \u001b[0mg\u001b[0m\u001b[0;34m.\u001b[0m\u001b[0medge_attr\u001b[0m\u001b[0;34m\u001b[0m\u001b[0;34m\u001b[0m\u001b[0m\n\u001b[0m",
      "\u001b[0;31mAttributeError\u001b[0m: 'Graph' object has no attribute 'edge_attr'"
     ]
    }
   ],
   "source": [
    "g.edge_attr"
   ]
  },
  {
   "cell_type": "code",
   "execution_count": 1,
   "metadata": {},
   "outputs": [],
   "source": [
    "import numpy as np"
   ]
  },
  {
   "cell_type": "code",
   "execution_count": 2,
   "metadata": {},
   "outputs": [],
   "source": [
    "thing = [[1],[2]]"
   ]
  },
  {
   "cell_type": "code",
   "execution_count": 4,
   "metadata": {},
   "outputs": [],
   "source": [
    "this = np.array(thing)"
   ]
  },
  {
   "cell_type": "code",
   "execution_count": 6,
   "metadata": {},
   "outputs": [
    {
     "ename": "IndexError",
     "evalue": "index 1 is out of bounds for axis 1 with size 1",
     "output_type": "error",
     "traceback": [
      "\u001b[0;31m---------------------------------------------------------------------------\u001b[0m",
      "\u001b[0;31mIndexError\u001b[0m                                Traceback (most recent call last)",
      "\u001b[0;32m/var/folders/w6/37ptr4dj1h9g82860_d3bbhw0000gn/T/ipykernel_24332/788356663.py\u001b[0m in \u001b[0;36m<module>\u001b[0;34m\u001b[0m\n\u001b[0;32m----> 1\u001b[0;31m \u001b[0mthis\u001b[0m\u001b[0;34m[\u001b[0m\u001b[0;34m:\u001b[0m\u001b[0;34m,\u001b[0m\u001b[0;36m1\u001b[0m\u001b[0;34m]\u001b[0m\u001b[0;34m\u001b[0m\u001b[0;34m\u001b[0m\u001b[0m\n\u001b[0m",
      "\u001b[0;31mIndexError\u001b[0m: index 1 is out of bounds for axis 1 with size 1"
     ]
    }
   ],
   "source": [
    "this[:,1]"
   ]
  },
  {
   "cell_type": "code",
   "execution_count": null,
   "metadata": {},
   "outputs": [],
   "source": [
    "metero_var = config['data']['metero_var']\n",
    "metero_use = config['experiments']['metero_use']\n",
    "metero_idx = [metero_var.index(var) for var in metero_use]"
   ]
  },
  {
   "cell_type": "code",
   "execution_count": 11,
   "metadata": {},
   "outputs": [],
   "source": [
    "lis1 = ['a','b','c','d','e','f',]\n",
    "lis2 = ['b','d','f']\n",
    "\n",
    "lis_idx = [lis1.index(x) for x in lis2]"
   ]
  },
  {
   "cell_type": "code",
   "execution_count": 12,
   "metadata": {},
   "outputs": [
    {
     "data": {
      "text/plain": [
       "[1, 3, 5]"
      ]
     },
     "execution_count": 12,
     "metadata": {},
     "output_type": "execute_result"
    }
   ],
   "source": [
    "lis_idx"
   ]
  },
  {
   "cell_type": "code",
   "execution_count": 15,
   "metadata": {},
   "outputs": [],
   "source": []
  },
  {
   "cell_type": "code",
   "execution_count": 8,
   "metadata": {},
   "outputs": [
    {
     "data": {
      "text/plain": [
       "[0,\n",
       " 1,\n",
       " 2,\n",
       " 3,\n",
       " 4,\n",
       " 5,\n",
       " 6,\n",
       " 7,\n",
       " 8,\n",
       " 9,\n",
       " 10,\n",
       " 11,\n",
       " 12,\n",
       " 13,\n",
       " 14,\n",
       " 15,\n",
       " 16,\n",
       " 17,\n",
       " 18,\n",
       " 19,\n",
       " 20,\n",
       " 21,\n",
       " 22]"
      ]
     },
     "execution_count": 8,
     "metadata": {},
     "output_type": "execute_result"
    }
   ],
   "source": [
    "from util import config, file_dir\n",
    "metero_var = config['data']['metero_var']\n",
    "metero_use = config['experiments']['metero_use']\n",
    "metero_idx = [metero_var.index(var) for var in metero_use]\n",
    "metero_idx"
   ]
  },
  {
   "cell_type": "code",
   "execution_count": 2,
   "metadata": {},
   "outputs": [],
   "source": [
    "import numpy as np\n",
    "x = np.NaN"
   ]
  },
  {
   "cell_type": "code",
   "execution_count": 3,
   "metadata": {},
   "outputs": [],
   "source": [
    "y = 1000"
   ]
  },
  {
   "cell_type": "code",
   "execution_count": 4,
   "metadata": {},
   "outputs": [
    {
     "data": {
      "text/plain": [
       "False"
      ]
     },
     "execution_count": 4,
     "metadata": {},
     "output_type": "execute_result"
    }
   ],
   "source": [
    "y > x"
   ]
  },
  {
   "cell_type": "code",
   "execution_count": 5,
   "metadata": {},
   "outputs": [
    {
     "data": {
      "text/plain": [
       "nan"
      ]
     },
     "execution_count": 5,
     "metadata": {},
     "output_type": "execute_result"
    }
   ],
   "source": [
    "x*y"
   ]
  },
  {
   "cell_type": "code",
   "execution_count": 14,
   "metadata": {},
   "outputs": [],
   "source": [
    "from model.PM25_GNN import GraphGNN\n",
    "from model.PM25_GNN import PM25_GNN\n",
    "import torch\n",
    "from graph import Graph\n",
    "from dataset import HazeData\n",
    "graph = Graph()"
   ]
  },
  {
   "cell_type": "code",
   "execution_count": 15,
   "metadata": {},
   "outputs": [],
   "source": [
    "use_cuda = torch.cuda.is_available()\n",
    "device = torch.device('cuda' if use_cuda else 'cpu')\n",
    "\n",
    "city_num = graph.node_num"
   ]
  },
  {
   "cell_type": "code",
   "execution_count": 16,
   "metadata": {},
   "outputs": [],
   "source": [
    "batch_size = config['train']['batch_size']\n",
    "epochs = config['train']['epochs']\n",
    "hist_len = config['train']['hist_len']\n",
    "pred_len = config['train']['pred_len']\n",
    "weight_decay = config['train']['weight_decay']\n",
    "early_stop = config['train']['early_stop']\n",
    "lr = config['train']['lr']\n",
    "results_dir = file_dir['results_dir']\n",
    "dataset_num = config['experiments']['dataset_num']\n",
    "exp_model = config['experiments']['model']\n",
    "exp_repeat = config['train']['exp_repeat']"
   ]
  },
  {
   "cell_type": "code",
   "execution_count": 22,
   "metadata": {},
   "outputs": [
    {
     "name": "stdout",
     "output_type": "stream",
     "text": [
      "meteo_idx:  [0, 1, 2, 3, 4, 5, 6, 7, 8, 9, 10, 11, 12, 13, 14, 15, 16, 17, 18, 19, 20, 21, 22]\n",
      "meteo_idx:  [0, 1, 2, 3, 4, 5, 6, 7, 8, 9, 10, 11, 12, 13, 14, 15, 16, 17, 18, 19, 20, 21, 22]\n",
      "meteo_idx:  [0, 1, 2, 3, 4, 5, 6, 7, 8, 9, 10, 11, 12, 13, 14, 15, 16, 17, 18, 19, 20, 21, 22]\n"
     ]
    }
   ],
   "source": [
    "train_data = HazeData(graph, hist_len, pred_len, dataset_num, flag='Train')\n",
    "val_data = HazeData(graph, hist_len, pred_len, dataset_num, flag='Val')\n",
    "test_data = HazeData(graph, hist_len, pred_len, dataset_num, flag='Test')\n",
    "in_dim = train_data.feature.shape[-1] + train_data.pm25.shape[-1]\n",
    "wind_mean, wind_std = train_data.wind_mean, train_data.wind_std\n",
    "pm25_mean, pm25_std = test_data.pm25_mean, test_data.pm25_std\n",
    "gnn_out = 13"
   ]
  },
  {
   "cell_type": "code",
   "execution_count": 23,
   "metadata": {},
   "outputs": [],
   "source": [
    "g = GraphGNN(device, graph.edge_index, graph.edge_attr, in_dim, gnn_out, wind_mean, wind_std)\n",
    "h = PM25_GNN(hist_len, pred_len, in_dim, city_num, batch_size, device, graph.edge_index, graph.edge_attr, wind_mean, wind_std)"
   ]
  },
  {
   "cell_type": "code",
   "execution_count": 50,
   "metadata": {},
   "outputs": [],
   "source": [
    "edge_src, edge_target = graph.edge_index\n",
    "edge_attr = graph.edge_attr\n"
   ]
  },
  {
   "cell_type": "code",
   "execution_count": 25,
   "metadata": {},
   "outputs": [
    {
     "ename": "IndexError",
     "evalue": "too many indices for tensor of dimension 2",
     "output_type": "error",
     "traceback": [
      "\u001b[0;31m---------------------------------------------------------------------------\u001b[0m",
      "\u001b[0;31mIndexError\u001b[0m                                Traceback (most recent call last)",
      "\u001b[0;32m/var/folders/w6/37ptr4dj1h9g82860_d3bbhw0000gn/T/ipykernel_1137/1429898029.py\u001b[0m in \u001b[0;36m<module>\u001b[0;34m\u001b[0m\n\u001b[0;32m----> 1\u001b[0;31m \u001b[0mgraph\u001b[0m\u001b[0;34m.\u001b[0m\u001b[0medge_attr\u001b[0m\u001b[0;34m[\u001b[0m\u001b[0;34m:\u001b[0m\u001b[0;34m,\u001b[0m\u001b[0;34m:\u001b[0m\u001b[0;34m,\u001b[0m\u001b[0;36m1\u001b[0m\u001b[0;34m]\u001b[0m\u001b[0;34m\u001b[0m\u001b[0;34m\u001b[0m\u001b[0m\n\u001b[0m",
      "\u001b[0;31mIndexError\u001b[0m: too many indices for tensor of dimension 2"
     ]
    }
   ],
   "source": [
    "edge_attr_ = graph.edge_attr[None, :, :].repeat(node_src.size(0), 1, 1)"
   ]
  },
  {
   "cell_type": "code",
   "execution_count": null,
   "metadata": {},
   "outputs": [],
   "source": []
  },
  {
   "cell_type": "code",
   "execution_count": 39,
   "metadata": {},
   "outputs": [],
   "source": [
    "model = h\n",
    "model = model.to(device)"
   ]
  },
  {
   "cell_type": "code",
   "execution_count": 27,
   "metadata": {},
   "outputs": [
    {
     "data": {
      "text/plain": [
       "<dataset.HazeData at 0x7fc6d2170cd0>"
      ]
     },
     "execution_count": 27,
     "metadata": {},
     "output_type": "execute_result"
    }
   ],
   "source": [
    "train_data"
   ]
  },
  {
   "cell_type": "code",
   "execution_count": 28,
   "metadata": {},
   "outputs": [],
   "source": [
    "train_loader = torch.utils.data.DataLoader(train_data, batch_size=batch_size, shuffle=True, drop_last=True)"
   ]
  },
  {
   "cell_type": "code",
   "execution_count": 29,
   "metadata": {},
   "outputs": [],
   "source": [
    "from tqdm import tqdm\n"
   ]
  },
  {
   "cell_type": "code",
   "execution_count": 31,
   "metadata": {},
   "outputs": [
    {
     "name": "stderr",
     "output_type": "stream",
     "text": [
      "0it [00:00, ?it/s]\n"
     ]
    },
    {
     "ename": "TypeError",
     "evalue": "'tqdm' object is not subscriptable",
     "output_type": "error",
     "traceback": [
      "\u001b[0;31m---------------------------------------------------------------------------\u001b[0m",
      "\u001b[0;31mTypeError\u001b[0m                                 Traceback (most recent call last)",
      "\u001b[0;32m/var/folders/w6/37ptr4dj1h9g82860_d3bbhw0000gn/T/ipykernel_1137/3448655866.py\u001b[0m in \u001b[0;36m<module>\u001b[0;34m\u001b[0m\n\u001b[0;32m----> 1\u001b[0;31m \u001b[0mdata\u001b[0m \u001b[0;34m=\u001b[0m \u001b[0mtqdm\u001b[0m\u001b[0;34m(\u001b[0m\u001b[0menumerate\u001b[0m\u001b[0;34m(\u001b[0m\u001b[0mtrain_loader\u001b[0m\u001b[0;34m)\u001b[0m\u001b[0;34m)\u001b[0m\u001b[0;34m[\u001b[0m\u001b[0;36m1\u001b[0m\u001b[0;34m]\u001b[0m\u001b[0;34m\u001b[0m\u001b[0;34m\u001b[0m\u001b[0m\n\u001b[0m",
      "\u001b[0;31mTypeError\u001b[0m: 'tqdm' object is not subscriptable"
     ]
    }
   ],
   "source": [
    "data = tqdm(enumerate(train_loader))"
   ]
  },
  {
   "cell_type": "code",
   "execution_count": 42,
   "metadata": {},
   "outputs": [
    {
     "name": "stderr",
     "output_type": "stream",
     "text": [
      "113it [00:00, 591.28it/s]\n"
     ]
    }
   ],
   "source": [
    "for batch_idx, data in tqdm(enumerate(train_loader)):\n",
    "    pm25, feature, time_arr = data\n",
    "    #print(pm25)\n",
    "    pm25 = pm25.to(device)\n",
    "    #print('feature:', feature)\n",
    "    feature = feature.to(device)\n",
    "    pm25_hist = pm25[:, :hist_len]\n",
    "    #pm25_pred = model(pm25_hist, feature)\n",
    "    xn = pm25_hist[:,-1]\n"
   ]
  },
  {
   "cell_type": "code",
   "execution_count": 44,
   "metadata": {},
   "outputs": [],
   "source": [
    "x = torch.cat((xn,feature[:,hist_len]),dim=-1)"
   ]
  },
  {
   "cell_type": "code",
   "execution_count": 46,
   "metadata": {},
   "outputs": [],
   "source": [
    "x = x.contiguous()"
   ]
  },
  {
   "cell_type": "code",
   "execution_count": 48,
   "metadata": {},
   "outputs": [],
   "source": [
    "node_src = x[:,edge_src]"
   ]
  },
  {
   "cell_type": "code",
   "execution_count": 51,
   "metadata": {},
   "outputs": [],
   "source": [
    "edge_attr = edge_attr.to(device)"
   ]
  },
  {
   "cell_type": "code",
   "execution_count": 52,
   "metadata": {},
   "outputs": [],
   "source": [
    "src_wind = node_src[:,:,-2:] * wind_std[None,None,:] + wind_mean[None,None,:]"
   ]
  },
  {
   "cell_type": "code",
   "execution_count": 54,
   "metadata": {},
   "outputs": [],
   "source": [
    "edge_attr_ = edge_attr[None, :, :].repeat(node_src.size(0), 1, 1)"
   ]
  },
  {
   "cell_type": "code",
   "execution_count": 55,
   "metadata": {},
   "outputs": [],
   "source": [
    "city_direc = edge_attr_[:,:,1]"
   ]
  },
  {
   "cell_type": "code",
   "execution_count": 78,
   "metadata": {},
   "outputs": [
    {
     "data": {
      "text/plain": [
       "tensor([[270.0000, 260.6158, 319.0783,  ..., 234.3794,  22.0540, 270.0000],\n",
       "        [270.0000, 260.6158, 319.0783,  ..., 234.3794,  22.0540, 270.0000],\n",
       "        [270.0000, 260.6158, 319.0783,  ..., 234.3794,  22.0540, 270.0000],\n",
       "        ...,\n",
       "        [270.0000, 260.6158, 319.0783,  ..., 234.3794,  22.0540, 270.0000],\n",
       "        [270.0000, 260.6158, 319.0783,  ..., 234.3794,  22.0540, 270.0000],\n",
       "        [270.0000, 260.6158, 319.0783,  ..., 234.3794,  22.0540, 270.0000]],\n",
       "       dtype=torch.float64)"
      ]
     },
     "execution_count": 78,
     "metadata": {},
     "output_type": "execute_result"
    }
   ],
   "source": [
    "city_direc"
   ]
  },
  {
   "cell_type": "code",
   "execution_count": 62,
   "metadata": {},
   "outputs": [],
   "source": [
    "src_wind_direc = src_wind[:,:,1]"
   ]
  },
  {
   "cell_type": "code",
   "execution_count": 64,
   "metadata": {},
   "outputs": [
    {
     "data": {
      "text/plain": [
       "torch.Size([32, 73])"
      ]
     },
     "execution_count": 64,
     "metadata": {},
     "output_type": "execute_result"
    }
   ],
   "source": [
    "src_wind_direc.shape"
   ]
  },
  {
   "cell_type": "code",
   "execution_count": 69,
   "metadata": {},
   "outputs": [
    {
     "data": {
      "text/plain": [
       "tensor([270.0000, 260.6158, 319.0783, 229.4607, 335.7364, 349.1931, 305.1703,\n",
       "        285.6000, 237.3152, 302.1734, 304.3607, 238.8742, 321.9708, 262.7746,\n",
       "        356.5699, 346.0692,  80.7204, 270.0000,  25.6976, 162.8257, 356.1939,\n",
       "         29.9086,  54.4637, 313.0310, 217.6167, 318.6490, 323.0324, 201.8801,\n",
       "          9.8243, 264.6376,  28.4668,  30.2582, 138.6426, 205.1598, 270.0000,\n",
       "        189.2254, 342.5762,  35.7634, 153.0370, 258.4377, 211.7991, 294.8534,\n",
       "        297.1723, 203.6409, 328.2257, 239.0977,  30.6075,  38.0201,  49.9112,\n",
       "        343.1699,  10.1086, 270.0000, 354.2971,  18.1268,  24.6624, 324.6094,\n",
       "        246.5918, 323.5919, 327.4144, 265.7375,   1.5540, 287.3002,  18.8042,\n",
       "         17.7236, 154.0694, 174.4309, 161.3471, 172.1887, 270.0000, 144.8298,\n",
       "        159.6052, 191.0633, 186.3711, 231.9639, 225.4650, 178.9998, 164.6799,\n",
       "        198.0123, 133.9714, 147.6633, 168.4339, 209.0485, 215.4415, 196.9205,\n",
       "        325.7402, 270.0000, 189.3033, 243.0796, 212.3771, 279.7662, 280.1655,\n",
       "        206.7574, 253.0028, 233.1095,  21.3506, 204.1967, 124.9956, 234.1855,\n",
       "        333.2977, 204.0386, 341.0955,   9.8866, 270.0000, 278.4504, 223.8765,\n",
       "        301.4460, 304.0221, 219.4822, 331.0811, 253.0659,  13.2466,   8.0172,\n",
       "        105.3059, 132.6347,  78.5766, 143.8696,  12.4245,  63.5390,  98.3302,\n",
       "        270.0000, 181.0837, 321.8376, 329.8338, 159.2775,  57.8974, 216.1085,\n",
       "         56.3290,  65.9823,  58.0057,  38.2002,  32.9197,  66.8327,   8.7110,\n",
       "         33.8198,  44.7390,   2.0602, 270.0000, 343.2055, 348.0085,  54.3174,\n",
       "         24.1937, 328.4161,  32.5439,  34.1446, 121.1722, 137.5495, 114.2854,\n",
       "        142.1498,  52.6150,  99.5160, 120.6192, 141.1350, 161.5308, 270.0000,\n",
       "         96.1566, 149.3288, 107.6992, 168.8782,  91.3863, 101.9710, 123.3752,\n",
       "        141.9483, 116.6205, 145.9873,  46.1337,  99.9319, 123.2112, 149.1472,\n",
       "        166.3485, 276.1733, 270.0000, 153.8734, 109.5020, 176.3309,  90.8612,\n",
       "        102.6853,  59.3427,  22.2424,  24.5412,  85.7562,   1.1229,  27.9802,\n",
       "         40.1235, 340.0346, 234.0957, 330.7867, 335.3163, 270.0000,  14.2937,\n",
       "        294.9819,  27.2140,  28.1097, 141.3240, 189.0764, 148.0147, 180.4609,\n",
       "        345.6975,  73.1129, 150.6095, 237.5487, 202.8643, 288.0576, 289.8440,\n",
       "        193.1839, 270.0000, 227.2442,  54.0900,  81.6437,  82.9507,  84.7094,\n",
       "         59.7043, 107.0298,  19.8365,  54.0365,  73.4145,  36.5740, 147.9077,\n",
       "        350.0423, 357.4797, 114.6934,  48.0595, 270.0000,  50.1669,  55.2457,\n",
       "        175.5955, 207.3924, 210.0712, 197.3832, 314.6688, 201.1361, 192.4486,\n",
       "        235.6562, 210.8871, 271.4245, 270.8826, 205.7769, 233.7658, 229.0268,\n",
       "        270.0000, 201.7783, 165.3713, 209.4592, 217.7593, 196.5785, 328.6342,\n",
       "         24.2577, 187.4951, 245.5837, 212.7628, 282.2816, 282.9793, 206.9480,\n",
       "        261.5945, 234.3794,  22.0540, 270.0000], dtype=torch.float64)"
      ]
     },
     "execution_count": 69,
     "metadata": {},
     "output_type": "execute_result"
    }
   ],
   "source": [
    "city_direc[31]"
   ]
  },
  {
   "cell_type": "code",
   "execution_count": 82,
   "metadata": {},
   "outputs": [
    {
     "data": {
      "text/plain": [
       "tensor([254., 254., 254., 254., 254., 254., 235., 235., 235., 235., 235., 235.,\n",
       "        235., 231., 231., 231., 231., 231., 231., 231., 231., 211., 211., 211.,\n",
       "        211., 211., 211., 211., 211., 211., 234., 234., 234., 234., 234., 234.,\n",
       "        234., 265., 265., 265., 283., 284., 251., 251., 251., 251., 251., 251.,\n",
       "        251., 251., 240., 240., 240., 240., 240., 214., 214., 214., 214., 214.,\n",
       "        214., 214., 214., 214., 211., 211., 211., 211., 211., 211., 211., 211.,\n",
       "        211.])"
      ]
     },
     "execution_count": 82,
     "metadata": {},
     "output_type": "execute_result"
    }
   ],
   "source": [
    "src_wind_direc[0]"
   ]
  },
  {
   "cell_type": "code",
   "execution_count": 85,
   "metadata": {},
   "outputs": [
    {
     "data": {
      "text/plain": [
       "tensor([270.0000, 260.6158, 319.0783, 229.4607, 335.7364, 349.1931, 305.1703,\n",
       "        285.6000, 237.3152, 302.1734, 304.3607, 238.8742, 321.9708, 262.7746,\n",
       "        356.5699, 346.0692,  80.7204, 270.0000,  25.6976, 162.8257, 356.1939,\n",
       "         29.9086,  54.4637, 313.0310, 217.6167, 318.6490, 323.0324, 201.8801,\n",
       "          9.8243, 264.6376,  28.4668,  30.2582, 138.6426, 205.1598, 270.0000,\n",
       "        189.2254, 342.5762,  35.7634, 153.0370, 258.4377, 211.7991, 294.8534,\n",
       "        297.1723, 203.6409, 328.2257, 239.0977,  30.6075,  38.0201,  49.9112,\n",
       "        343.1699,  10.1086, 270.0000, 354.2971,  18.1268,  24.6624, 324.6094,\n",
       "        246.5918, 323.5919, 327.4144, 265.7375,   1.5540, 287.3002,  18.8042,\n",
       "         17.7236, 154.0694, 174.4309, 161.3471, 172.1887, 270.0000, 144.8298,\n",
       "        159.6052, 191.0633, 186.3711, 231.9639, 225.4650, 178.9998, 164.6799,\n",
       "        198.0123, 133.9714, 147.6633, 168.4339, 209.0485, 215.4415, 196.9205,\n",
       "        325.7402, 270.0000, 189.3033, 243.0796, 212.3771, 279.7662, 280.1655,\n",
       "        206.7574, 253.0028, 233.1095,  21.3506, 204.1967, 124.9956, 234.1855,\n",
       "        333.2977, 204.0386, 341.0955,   9.8866, 270.0000, 278.4504, 223.8765,\n",
       "        301.4460, 304.0221, 219.4822, 331.0811, 253.0659,  13.2466,   8.0172,\n",
       "        105.3059, 132.6347,  78.5766, 143.8696,  12.4245,  63.5390,  98.3302,\n",
       "        270.0000, 181.0837, 321.8376, 329.8338, 159.2775,  57.8974, 216.1085,\n",
       "         56.3290,  65.9823,  58.0057,  38.2002,  32.9197,  66.8327,   8.7110,\n",
       "         33.8198,  44.7390,   2.0602, 270.0000, 343.2055, 348.0085,  54.3174,\n",
       "         24.1937, 328.4161,  32.5439,  34.1446, 121.1722, 137.5495, 114.2854,\n",
       "        142.1498,  52.6150,  99.5160, 120.6192, 141.1350, 161.5308, 270.0000,\n",
       "         96.1566, 149.3288, 107.6992, 168.8782,  91.3863, 101.9710, 123.3752,\n",
       "        141.9483, 116.6205, 145.9873,  46.1337,  99.9319, 123.2112, 149.1472,\n",
       "        166.3485, 276.1733, 270.0000, 153.8734, 109.5020, 176.3309,  90.8612,\n",
       "        102.6853,  59.3427,  22.2424,  24.5412,  85.7562,   1.1229,  27.9802,\n",
       "         40.1235, 340.0346, 234.0957, 330.7867, 335.3163, 270.0000,  14.2937,\n",
       "        294.9819,  27.2140,  28.1097, 141.3240, 189.0764, 148.0147, 180.4609,\n",
       "        345.6975,  73.1129, 150.6095, 237.5487, 202.8643, 288.0576, 289.8440,\n",
       "        193.1839, 270.0000, 227.2442,  54.0900,  81.6437,  82.9507,  84.7094,\n",
       "         59.7043, 107.0298,  19.8365,  54.0365,  73.4145,  36.5740, 147.9077,\n",
       "        350.0423, 357.4797, 114.6934,  48.0595, 270.0000,  50.1669,  55.2457,\n",
       "        175.5955, 207.3924, 210.0712, 197.3832, 314.6688, 201.1361, 192.4486,\n",
       "        235.6562, 210.8871, 271.4245, 270.8826, 205.7769, 233.7658, 229.0268,\n",
       "        270.0000, 201.7783, 165.3713, 209.4592, 217.7593, 196.5785, 328.6342,\n",
       "         24.2577, 187.4951, 245.5837, 212.7628, 282.2816, 282.9793, 206.9480,\n",
       "        261.5945, 234.3794,  22.0540, 270.0000], dtype=torch.float64)"
      ]
     },
     "execution_count": 85,
     "metadata": {},
     "output_type": "execute_result"
    }
   ],
   "source": [
    "city_direc[0]"
   ]
  },
  {
   "cell_type": "code",
   "execution_count": 88,
   "metadata": {},
   "outputs": [
    {
     "data": {
      "text/plain": [
       "tensor([  0., 270.], dtype=torch.float64)"
      ]
     },
     "execution_count": 88,
     "metadata": {},
     "output_type": "execute_result"
    }
   ],
   "source": [
    "edge_attr"
   ]
  },
  {
   "cell_type": "code",
   "execution_count": 92,
   "metadata": {},
   "outputs": [],
   "source": [
    "from graph import Graph\n",
    "graph = Graph()\n"
   ]
  },
  {
   "cell_type": "code",
   "execution_count": 94,
   "metadata": {},
   "outputs": [
    {
     "data": {
      "text/plain": [
       "torch.Size([256, 2])"
      ]
     },
     "execution_count": 94,
     "metadata": {},
     "output_type": "execute_result"
    }
   ],
   "source": [
    "graph.edge_attr.shape"
   ]
  },
  {
   "cell_type": "code",
   "execution_count": null,
   "metadata": {},
   "outputs": [],
   "source": []
  }
 ],
 "metadata": {
  "kernelspec": {
   "display_name": "Python 3.9.13 ('base')",
   "language": "python",
   "name": "python3"
  },
  "language_info": {
   "codemirror_mode": {
    "name": "ipython",
    "version": 3
   },
   "file_extension": ".py",
   "mimetype": "text/x-python",
   "name": "python",
   "nbconvert_exporter": "python",
   "pygments_lexer": "ipython3",
   "version": "3.9.13"
  },
  "orig_nbformat": 4,
  "vscode": {
   "interpreter": {
    "hash": "40b392d899ae079ba8eed397cbd8ea4023868938e263e3d613707fbed499e556"
   }
  }
 },
 "nbformat": 4,
 "nbformat_minor": 2
}
